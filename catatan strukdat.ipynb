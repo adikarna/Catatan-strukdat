{
 "cells": [
  {
   "cell_type": "code",
   "execution_count": 7,
   "metadata": {
    "collapsed": false
   },
   "outputs": [
    {
     "ename": "SyntaxError",
     "evalue": "invalid syntax (<ipython-input-7-ed40d9a17817>, line 1)",
     "output_type": "error",
     "traceback": [
      "\u001b[0;36m  File \u001b[0;32m\"<ipython-input-7-ed40d9a17817>\"\u001b[0;36m, line \u001b[0;32m1\u001b[0m\n\u001b[0;31m    Definisi Queues\u001b[0m\n\u001b[0m                  ^\u001b[0m\n\u001b[0;31mSyntaxError\u001b[0m\u001b[0;31m:\u001b[0m invalid syntax\n"
     ]
    }
   ],
   "source": [
    "Definisi Queues\n",
    "queues atau antrian merupakan struktur data dimana penambahan data baru dan penghapusan data baru dan penghapusan data berada di ujung yang berbeda. Hal ini berbeda dengan stacks. dimana penambahan data baru dan penghapusan data dilakukan pada ujung yang sama.\n",
    "front-depan\n",
    "rear-belakang\n",
    "enQueue- nambah data\n",
    "deQueue- del data"
   ]
  },
  {
   "cell_type": "code",
   "execution_count": 0,
   "metadata": {
    "collapsed": false
   },
   "outputs": [
   ],
   "source": [
    "def createQueue():\n",
    "    q=[]\n",
    "    return (q)\n",
    "def enqueue(q,data):\n",
    "    q.insert(0,data)\n",
    "    return (q)\n",
    "def dequeue(q):\n",
    "    data=q.pop()\n",
    "    return (data)\n",
    "def isEmpty(q):\n",
    "    return (q==[])\n",
    "def size(q):\n",
    "    return (len(q))"
   ]
  },
  {
   "cell_type": "code",
   "execution_count": 0,
   "metadata": {
    "collapsed": false
   },
   "outputs": [
   ],
   "source": [
    "q=createQueue()"
   ]
  },
  {
   "cell_type": "code",
   "execution_count": 0,
   "metadata": {
    "collapsed": false
   },
   "outputs": [
   ],
   "source": [
    "enqueue(q,\"matematika\")\n",
    "enqueue(q,\"struktur data\")\n",
    "enqueue(q,\"bahasa inggris\")\n",
    "enqueue (q,\"peemrograman Web\")\n",
    "print (q)"
   ]
  },
  {
   "cell_type": "code",
   "execution_count": 0,
   "metadata": {
    "collapsed": false
   },
   "outputs": [
   ],
   "source": [
    "q=[\"a\",\"b\",\"c\",\"d\"]\n",
    "li= int(input(\"masukkan berapa perulangan\"))\n",
    "def ularnaga(q):\n",
    "    for i in range (li):\n",
    "        temp=dequeue(q)\n",
    "        enqueue(q,temp)\n",
    "        print(q)\n",
    "    hapus=dequeue(q)\n",
    "    print(hapus)\n",
    "    return (q)\n",
    "\n",
    "print (ularnaga(q))"
   ]
  },
  {
   "cell_type": "code",
   "execution_count": 0,
   "metadata": {
    "collapsed": false
   },
   "outputs": [
   ],
   "source": [
    "def createDeque():\n",
    "    d=[]\n",
    "    return(d)\n",
    "def addFront(d,data):\n",
    "    d.insert(0,data)\n",
    "    return(d)\n",
    "def addRear(d,data):\n",
    "    d.append(data)\n",
    "    return(d)\n",
    "def removeRear(d):\n",
    "    data=d.pop()\n",
    "    return(data)\n",
    "def removeFront(d):\n",
    "    data=d.pop(0)\n",
    "    return(data)"
   ]
  },
  {
   "cell_type": "code",
   "execution_count": 0,
   "metadata": {
    "collapsed": false
   },
   "outputs": [
   ],
   "source": [
    "deq=createDeque()"
   ]
  },
  {
   "cell_type": "code",
   "execution_count": 0,
   "metadata": {
    "collapsed": false
   },
   "outputs": [
   ],
   "source": [
    "addFront(deq,\"struktur data\")"
   ]
  },
  {
   "cell_type": "code",
   "execution_count": 0,
   "metadata": {
    "collapsed": false
   },
   "outputs": [
   ],
   "source": [
    "pal=[\"i\",\"k\",\"i\"]\n",
    "pal2=[\"i\",\"k\",\"i\"]\n",
    "def palindrome(pal):\n",
    "    for i in range (len(pal)):\n",
    "        temp=removeRear(pal)\n",
    "        hasil=removeFront(pal2)\n",
    "    print(temp)\n",
    "    print(hasil)\n",
    "    if hasil==temp:\n",
    "        pali=\"palindrome\"\n",
    "        return pali\n",
    "    else :\n",
    "        palin=\"tidak palindrome\"\n",
    "        return palin\n",
    "print(palindrome(pal))"
   ]
  },
  {
   "cell_type": "code",
   "execution_count": 0,
   "metadata": {
    "collapsed": false
   },
   "outputs": [
   ],
   "source": [
    "class Bilangankompleks:\n",
    "    def __init__(self,a,b):\n",
    "        self.real=a\n",
    "        self.im=b\n",
    "    def display(self):\n",
    "        print(self.real,\"-\",self.im,\"i\")\n",
    "    def display2(self):\n",
    "        temp=str(self.real)+\"+\"+str(self.im)+\"i\"\n",
    "        return temp\n",
    "    def __str__(self):\n",
    "        return str(self.real)+\"+\"+str(self.im)+\"i\"\n",
    "    def addNum(self,a,b):\n",
    "        self.real=a.real+b.real\n",
    "        self.im=b.im+b.im\n",
    "    def __add__(self):\n",
    "        self.real=a.real+b.real\n",
    "        self.im=a.im+b.im"
   ]
  },
  {
   "cell_type": "code",
   "execution_count": 0,
   "metadata": {
    "collapsed": false
   },
   "outputs": [
   ],
   "source": [
    "data=Bilangankompleks(4,6)\n",
    "data.display()"
   ]
  },
  {
   "cell_type": "code",
   "execution_count": 0,
   "metadata": {
    "collapsed": false
   },
   "outputs": [
   ],
   "source": [
    "data=Bilangankompleks(4,6)\n",
    "data.display2()"
   ]
  },
  {
   "cell_type": "code",
   "execution_count": 0,
   "metadata": {
    "collapsed": false
   },
   "outputs": [
   ],
   "source": [
    "data1=Bilangankompleks(4,6)\n",
    "data2=Bilangankompleks(2,5)\n",
    "print(data1)"
   ]
  },
  {
   "cell_type": "code",
   "execution_count": 0,
   "metadata": {
    "collapsed": false
   },
   "outputs": [
   ],
   "source": [
    "a=Bilangankompleks(4,6)\n",
    "b=Bilangankompleks(3,2)\n",
    "print(a)\n",
    "print(b)\n",
    "data3=Bilangankompleks(0,0)\n",
    "data3.addNum(a,b)\n",
    "print(data3)\n"
   ]
  },
  {
   "cell_type": "code",
   "execution_count": 0,
   "metadata": {
    "collapsed": false
   },
   "outputs": [
   ],
   "source": [
    "class Bilangankompleks:\n",
    "    def __init__(self,a,b):\n",
    "        self.real=a\n",
    "        self.im=b\n",
    "    def display(self):\n",
    "        print(self.real,\"-\",self.im,\"i\")\n",
    "    def display2(self):\n",
    "        temp=str(self.real)+\"+\"+str(self.im)+\"i\"\n",
    "        return temp\n",
    "    def __str__(self):\n",
    "        return str(self.real)+\"+\"+str(self.im)+\"i\"\n",
    "    def addkomp(self,obj):\n",
    "        a=self.real+obj.real\n",
    "        b=self.im+obj.im\n",
    "        return Bilangankompleks(a,b)\n",
    "    def __add__(self,obj):\n",
    "        a=self.real+obj.real\n",
    "        b=self.im+obj.im\n",
    "        return Bilangankompleks(a,b)\n",
    "    def __mul__(self):\n",
    "        a=a.real*b.real\n",
    "        b=(a.real*b.im)+(a.im*b.real)\n",
    "        c=a.im*b.im"
   ]
  },
  {
   "cell_type": "code",
   "execution_count": 0,
   "metadata": {
    "collapsed": false
   },
   "outputs": [
   ],
   "source": [
    "a=Bilangankompleks(4,6)\n",
    "b=Bilangankompleks(3,2)\n",
    "print(a)\n",
    "print(b)\n",
    "data3=Bilangankompleks(0,0,)\n",
    "data3.__mul__(a,b)"
   ]
  },
  {
   "cell_type": "code",
   "execution_count": 8,
   "metadata": {
    "collapsed": false
   },
   "outputs": [
   ],
   "source": [
    "dequeue(dek)\n",
    "dequeue(dek) hampir sama dengan queues bedanya terletak pada penambahan atau pengurangan yang bisa dilakukan pada kedua ujung.\n",
    "\n",
    "dequeue(): inisialisasi\n",
    "addfront(data) penambahan data baru di front\n",
    "addrear(data) penambahan data baru di rear\n",
    "removeRear() penghapusan data di rear\n",
    "removeFront() penghapusan data di front\n",
    "isEmpty() mengecek apakah deque dalam keadaan kosong\n",
    "size() informasi jumlah data yang ada pada deque\n",
    "deque(): inisialisasi\n",
    "addfront(data): penambahan data baru di front\n",
    "addrear(data): penambahan data baru di rear\n",
    "removeRear(): penghapusan data di rear\n",
    "removeFront(): penghapusan data di front\n",
    "isEmpty(): mengecek apakah deque dalam keadaan kosong\n",
    "size(): informasi jumlah data yang ada pada deque"
   ]
  },
  {
   "cell_type": "code",
   "execution_count": 0,
   "metadata": {
    "collapsed": false
   },
   "outputs": [
   ],
   "source": [
   ]
  },
  {
   "cell_type": "code",
   "execution_count": 0,
   "metadata": {
    "collapsed": false
   },
   "outputs": [
   ],
   "source": [
    "def createDeques():\n",
    "    d=[]\n",
    "    return(d)\n",
    "def addFront(d,data):\n",
    "    d.insert(0,data)\n",
    "    return(q)\n",
    "def addRear(d,data):\n",
    "    d.append(data)\n",
    "    return(data)\n",
    "def removeRear(d):\n",
    "    data=d.pop()\n",
    "    return(data)\n",
    "def removefront(d):\n",
    "    data=d.pop(0)\n",
    "    return(data)\n",
    "def isEmpty(d):\n",
    "    return(d==[])\n",
    "def size(d):\n",
    "    return(len(d))\n",
    "\n",
    "def pengecekpalindrom(teks):\n",
    "    dek = Deque()  \n",
    "    for i in range (len(teks)):\n",
    "        if teks[i] != ' ' :\n",
    "            dek.addRear(teks[i])\n",
    "  \n",
    "    data = True\n",
    "    while d.size() > 1 and data:\n",
    "        kepala = d.removeFront()\n",
    "        ekor = d.removeRear()\n",
    "        if kepala != ekor:\n",
    "            data = False\n",
    "    return data\n",
    "\n",
    "teks = input(\"silahkan masukan teks : \")\n",
    "\n",
    "if pengecekpalindrom('ma lam') :\n",
    "    print(\"kata '\",teks,\"' merupakan kata palindrom.\")\n",
    "else :\n",
    "    print(\"kata '\",teks,\"' bukan kata palindrom.\")\n"
   ]
  },
  {
   "cell_type": "code",
   "execution_count": 9,
   "metadata": {
    "collapsed": false
   },
   "outputs": [
    {
     "ename": "SyntaxError",
     "evalue": "invalid syntax (<ipython-input-9-f0d620533d13>, line 1)",
     "output_type": "error",
     "traceback": [
      "\u001b[0;36m  File \u001b[0;32m\"<ipython-input-9-f0d620533d13>\"\u001b[0;36m, line \u001b[0;32m1\u001b[0m\n\u001b[0;31m    linked List-type data yang dinamis,\u001b[0m\n\u001b[0m              ^\u001b[0m\n\u001b[0;31mSyntaxError\u001b[0m\u001b[0;31m:\u001b[0m invalid syntax\n"
     ]
    }
   ],
   "source": [
   ]
  },
  {
   "cell_type": "code",
   "execution_count": 0,
   "metadata": {
    "collapsed": false
   },
   "outputs": [
   ],
   "source": [
   ]
  }
 ],
 "metadata": {
  "kernelspec": {
   "display_name": "Python 3 (Anaconda 5)",
   "language": "python",
   "name": "anaconda5"
  },
  "language_info": {
   "codemirror_mode": {
    "name": "ipython",
    "version": 3
   },
   "file_extension": ".py",
   "mimetype": "text/x-python",
   "name": "python",
   "nbconvert_exporter": "python",
   "pygments_lexer": "ipython3",
   "version": "3.6.6"
  }
 },
 "nbformat": 4,
 "nbformat_minor": 0
}